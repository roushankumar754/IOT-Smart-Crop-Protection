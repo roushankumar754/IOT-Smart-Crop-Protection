{
  "cells": [
    {
      "cell_type": "markdown",
      "metadata": {
        "id": "view-in-github",
        "colab_type": "text"
      },
      "source": [
        "<a href=\"https://colab.research.google.com/github/roushankumar754/JupyterNotebook/blob/main/AnimalBinaryClassification.ipynb\" target=\"_parent\"><img src=\"https://colab.research.google.com/assets/colab-badge.svg\" alt=\"Open In Colab\"/></a>"
      ]
    },
    {
      "cell_type": "code",
      "source": [],
      "metadata": {
        "id": "dnXzQXZ6jGZK"
      },
      "execution_count": null,
      "outputs": []
    },
    {
      "cell_type": "code",
      "execution_count": 2,
      "metadata": {
        "colab": {
          "base_uri": "https://localhost:8080/"
        },
        "id": "NYq4ZjdJOcRg",
        "outputId": "c8fc1e4d-f6bf-4e23-a5f6-8d6269bd7f1d"
      },
      "outputs": [
        {
          "output_type": "stream",
          "name": "stdout",
          "text": [
            "Downloading data from https://storage.googleapis.com/tensorflow/keras-applications/mobilenet_v2/mobilenet_v2_weights_tf_dim_ordering_tf_kernels_1.0_224_no_top.h5\n",
            "9406464/9406464 [==============================] - 0s 0us/step\n",
            "Found 3568 images belonging to 2 classes.\n",
            "Found 890 images belonging to 2 classes.\n",
            "Epoch 1/10\n",
            "112/112 [==============================] - 1058s 9s/step - loss: 0.2702 - accuracy: 0.8999 - val_loss: 0.1403 - val_accuracy: 0.9539\n",
            "Epoch 2/10\n",
            "112/112 [==============================] - 308s 3s/step - loss: 0.1242 - accuracy: 0.9560 - val_loss: 0.1612 - val_accuracy: 0.9416\n",
            "Epoch 3/10\n",
            "112/112 [==============================] - 303s 3s/step - loss: 0.1138 - accuracy: 0.9557 - val_loss: 0.1251 - val_accuracy: 0.9596\n",
            "Epoch 4/10\n",
            "112/112 [==============================] - 302s 3s/step - loss: 0.0944 - accuracy: 0.9680 - val_loss: 0.1313 - val_accuracy: 0.9562\n",
            "Epoch 5/10\n",
            "112/112 [==============================] - 319s 3s/step - loss: 0.0885 - accuracy: 0.9683 - val_loss: 0.1373 - val_accuracy: 0.9483\n",
            "Epoch 6/10\n",
            "112/112 [==============================] - 293s 3s/step - loss: 0.0781 - accuracy: 0.9697 - val_loss: 0.1239 - val_accuracy: 0.9584\n",
            "Epoch 7/10\n",
            "112/112 [==============================] - 300s 3s/step - loss: 0.0780 - accuracy: 0.9709 - val_loss: 0.1283 - val_accuracy: 0.9596\n",
            "Epoch 8/10\n",
            "112/112 [==============================] - 298s 3s/step - loss: 0.0730 - accuracy: 0.9731 - val_loss: 0.1426 - val_accuracy: 0.9528\n",
            "Epoch 9/10\n",
            "112/112 [==============================] - 292s 3s/step - loss: 0.0570 - accuracy: 0.9759 - val_loss: 0.1215 - val_accuracy: 0.9674\n",
            "Epoch 10/10\n",
            "112/112 [==============================] - 264s 2s/step - loss: 0.0676 - accuracy: 0.9742 - val_loss: 0.1925 - val_accuracy: 0.9472\n"
          ]
        },
        {
          "output_type": "stream",
          "name": "stderr",
          "text": [
            "WARNING:absl:Found untraced functions such as _jit_compiled_convolution_op, _jit_compiled_convolution_op, _jit_compiled_convolution_op, _jit_compiled_convolution_op, _jit_compiled_convolution_op while saving (showing 5 of 53). These functions will not be directly callable after loading.\n"
          ]
        }
      ],
      "source": [
        "import tensorflow as tf\n",
        "from tensorflow.keras.preprocessing.image import ImageDataGenerator\n",
        "\n",
        "# Define the input shape for your images\n",
        "input_shape = (224, 224, 3)\n",
        "\n",
        "# Load the pre-trained MobileNet model and remove the top layer\n",
        "base_model = tf.keras.applications.MobileNetV2(input_shape=input_shape,\n",
        "                                               include_top=False,\n",
        "                                               weights='imagenet')\n",
        "\n",
        "# Add a new top layer for classification\n",
        "x = base_model.output\n",
        "x = tf.keras.layers.GlobalAveragePooling2D()(x)\n",
        "x = tf.keras.layers.Dense(1024, activation='relu')(x)\n",
        "predictions = tf.keras.layers.Dense(1, activation='sigmoid')(x)\n",
        "\n",
        "# Combine the base model and new top layers into a single model\n",
        "model = tf.keras.models.Model(inputs=base_model.input, outputs=predictions)\n",
        "\n",
        "# Freeze the weights of the base model\n",
        "for layer in base_model.layers:\n",
        "    layer.trainable = False\n",
        "\n",
        "# Compile the model with a binary cross-entropy loss function and an Adam optimizer\n",
        "model.compile(loss='binary_crossentropy',\n",
        "              optimizer=tf.keras.optimizers.Adam(),\n",
        "              metrics=['accuracy'])\n",
        "\n",
        "# Use data augmentation to generate additional training data\n",
        "train_datagen = ImageDataGenerator(rescale=1./255,\n",
        "                                   rotation_range=20,\n",
        "                                   width_shift_range=0.2,\n",
        "                                   height_shift_range=0.2,\n",
        "                                   shear_range=0.2,\n",
        "                                   zoom_range=0.2,\n",
        "                                   horizontal_flip=True)\n",
        "\n",
        "# Load the training and validation datasets using the ImageDataGenerator\n",
        "train_generator = train_datagen.flow_from_directory('/content/drive/MyDrive/classification/training',\n",
        "                                                    target_size=input_shape[:2],\n",
        "                                                    batch_size=32,\n",
        "                                                    class_mode='binary')\n",
        "\n",
        "validation_generator = train_datagen.flow_from_directory('/content/drive/MyDrive/classification/validating',\n",
        "                                                         target_size=input_shape[:2],\n",
        "                                                         batch_size=32,\n",
        "                                                         class_mode='binary')\n",
        "\n",
        "# Train the model for a few epochs\n",
        "model.fit(train_generator,\n",
        "          steps_per_epoch=len(train_generator),\n",
        "          epochs=10,\n",
        "          validation_data=validation_generator,\n",
        "          validation_steps=len(validation_generator))\n",
        "\n",
        "# Convert the model to TensorFlow Lite format\n",
        "converter = tf.lite.TFLiteConverter.from_keras_model(model)\n",
        "tflite_model = converter.convert()\n",
        "\n",
        "# Save the TensorFlow Lite model to a file\n",
        "with open('model.tflite', 'wb') as f:\n",
        "    f.write(tflite_model)\n"
      ]
    },
    {
      "cell_type": "code",
      "source": [
        "from google.colab import drive\n",
        "drive.mount('/content/drive')"
      ],
      "metadata": {
        "colab": {
          "base_uri": "https://localhost:8080/"
        },
        "id": "DVQ-qkL1jHdu",
        "outputId": "3e02b88d-4e5d-4258-aa1a-a8280686786f"
      },
      "execution_count": 1,
      "outputs": [
        {
          "output_type": "stream",
          "name": "stdout",
          "text": [
            "Mounted at /content/drive\n"
          ]
        }
      ]
    },
    {
      "cell_type": "code",
      "source": [
        "import tensorflow as tf\n",
        "import numpy as np\n",
        "from PIL import Image\n",
        "\n",
        "# Load the TensorFlow Lite model\n",
        "interpreter = tf.lite.Interpreter(model_path=\"/content/model.tflite\")\n",
        "interpreter.allocate_tensors()\n",
        "\n",
        "# Get the input and output tensors\n",
        "input_details = interpreter.get_input_details()\n",
        "output_details = interpreter.get_output_details()\n",
        "\n",
        "# Load and preprocess the image\n",
        "img = Image.open(\"/content/drive/MyDrive/20160212_064946.jpg\")\n",
        "img = img.resize((224, 224))\n",
        "img = np.array(img, dtype=np.float32)\n",
        "img = img / 255.0\n",
        "img = np.expand_dims(img, axis=0)\n",
        "\n",
        "# Run inference on the model\n",
        "interpreter.set_tensor(input_details[0]['index'], img)\n",
        "interpreter.invoke()\n",
        "output_data = interpreter.get_tensor(output_details[0]['index'])\n",
        "prediction = output_data[0][0]\n",
        "print(prediction)\n",
        "# Print the predicted class (0 or 1)\n",
        "if prediction < 0.5:\n",
        "    print(\"The image is not an animal.\")\n",
        "else:\n",
        "    print(\"The image is an animal.\")\n"
      ],
      "metadata": {
        "colab": {
          "base_uri": "https://localhost:8080/"
        },
        "id": "z7i-sZFpjesW",
        "outputId": "fda08a64-df7b-4f66-bf5b-8ebcf235e239"
      },
      "execution_count": 4,
      "outputs": [
        {
          "output_type": "stream",
          "name": "stdout",
          "text": [
            "0.0011338702\n",
            "The image is not an animal.\n"
          ]
        }
      ]
    }
  ],
  "metadata": {
    "colab": {
      "name": "Welcome To Colaboratory",
      "provenance": [],
      "include_colab_link": true
    },
    "kernelspec": {
      "display_name": "Python 3",
      "name": "python3"
    }
  },
  "nbformat": 4,
  "nbformat_minor": 0
}